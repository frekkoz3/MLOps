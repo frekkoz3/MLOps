{
 "cells": [
  {
   "cell_type": "markdown",
   "id": "1c97ac0d",
   "metadata": {},
   "source": [
    "---\n",
    "\n",
    "# ✏️ Exercises: Exploring Other Datasets (scikit-learn)\n",
    "\n",
    "To extend your practice beyond the Iris dataset, try applying the **same EDA workflow** to other datasets available in `scikit-learn`.  \n",
    "This will help you generalize the process of **loading data, checking quality, visualizing distributions, detecting correlations, and generating hypotheses**.\n",
    "\n",
    "## 🔹 Suggested Datasets\n",
    "\n",
    "1. **Wine Dataset** (`load_wine`)  \n",
    "   - Classification dataset with 178 samples and 13 features describing chemical properties of wines.  \n",
    "   - Task: Explore how the three wine classes differ in terms of alcohol content, phenols, and color intensity.  \n",
    "\n",
    "2. **Breast Cancer Dataset** (`load_breast_cancer`)  \n",
    "   - Classification dataset with 569 samples and 30 features related to cell nuclei characteristics.  \n",
    "   - Task: Investigate which features appear most discriminative between malignant and benign tumors.  \n",
    "\n",
    "3. **Digits Dataset** (`load_digits`)  \n",
    "   - Classification dataset with 1,797 samples of 8x8 images of handwritten digits.  \n",
    "   - Task: Perform basic EDA to visualize digit distributions and pixel intensity correlations.  \n",
    "\n",
    "---\n",
    "\n",
    "## 🔹 Exercise Instructions\n",
    "\n",
    "For each dataset:  \n",
    "1. **Load** the dataset using `from sklearn.datasets import load_<dataset_name>`  \n",
    "2. Convert it into a **pandas DataFrame** for easier handling.  \n",
    "3. Perform:  \n",
    "   - Missing value check  \n",
    "   - Descriptive statistics  \n",
    "   - Distribution plots (histograms, boxplots)  \n",
    "   - Correlation heatmaps  \n",
    "   - Pairplots (if feasible)  \n",
    "4. **Compare classes** and propose **hypotheses** about feature importance and separability.  \n",
    "\n",
    "---\n",
    "\n",
    "## 📘 Example Starter Code\n",
    "\n",
    "```python\n",
    "from sklearn.datasets import load_wine\n",
    "import pandas as pd\n",
    "\n",
    "# Load dataset\n",
    "wine = load_wine()\n",
    "df_wine = pd.DataFrame(wine.data, columns=wine.feature_names)\n",
    "df_wine['target'] = wine.target\n",
    "\n",
    "# Quick check\n",
    "print(df_wine.head())\n",
    "print(df_wine['target'].value_counts())\n",
    "\n"
   ]
  },
  {
   "cell_type": "code",
   "execution_count": null,
   "id": "7639c39a",
   "metadata": {},
   "outputs": [],
   "source": []
  }
 ],
 "metadata": {
  "kernelspec": {
   "display_name": "venv",
   "language": "python",
   "name": "python3"
  },
  "language_info": {
   "codemirror_mode": {
    "name": "ipython",
    "version": 3
   },
   "file_extension": ".py",
   "mimetype": "text/x-python",
   "name": "python",
   "nbconvert_exporter": "python",
   "pygments_lexer": "ipython3",
   "version": "3.13.7"
  }
 },
 "nbformat": 4,
 "nbformat_minor": 5
}
