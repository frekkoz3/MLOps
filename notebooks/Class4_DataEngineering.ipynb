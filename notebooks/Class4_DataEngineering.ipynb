{
 "cells": [
  {
   "cell_type": "markdown",
   "metadata": {},
   "source": [
    "# Titanic Dataset — Summary Table\n",
    "\n",
    "| Feature        | Type               | Description |\n",
    "|----------------|--------------------|-------------|\n",
    "| **survived**   | Binary (0/1)       | Passenger survival (0 = no, 1 = yes). |\n",
    "| **pclass**     | Categorical (1/2/3)| Passenger ticket class (proxy for socio-economic status). |\n",
    "| **sex**        | Categorical        | Gender of the passenger (`male`, `female`). |\n",
    "| **age**        | Continuous (float) | Age of the passenger (in years). Missing for some. |\n",
    "| **sibsp**      | Integer            | Number of siblings/spouses aboard. |\n",
    "| **parch**      | Integer            | Number of parents/children aboard. |\n",
    "| **fare**       | Continuous (float) | Ticket price (in 1912 British pounds). |\n",
    "| **embarked**   | Categorical        | Port of embarkation (`C` = Cherbourg, `Q` = Queenstown, `S` = Southampton). |\n",
    "| **class**      | Categorical        | Passenger class (`First`, `Second`, `Third`). |\n",
    "| **who**        | Categorical        | Simplified category (`man`, `woman`, `child`). |\n",
    "| **adult_male** | Boolean            | Whether passenger is an adult male (`True`/`False`). |\n",
    "| **deck**       | Categorical        | Cabin deck letter (`A–G` or missing). |\n",
    "| **embark_town**| String             | Embarkation town name (`Cherbourg`, `Queenstown`, `Southampton`). |\n",
    "| **alive**      | String             | Human-readable survival status (`yes`, `no`). |\n",
    "| **alone**      | Boolean            | True if passenger had no family aboard. |\n"
   ]
  },
  {
   "cell_type": "markdown",
   "metadata": {},
   "source": [
    "# 1. Imports"
   ]
  },
  {
   "cell_type": "code",
   "execution_count": 280,
   "metadata": {},
   "outputs": [],
   "source": [
    "import pandas as pd\n",
    "import numpy as np\n",
    "\n",
    "import seaborn as sns\n",
    "import matplotlib.pyplot as plt\n",
    "\n",
    "from sklearn.feature_selection import chi2\n",
    "from sklearn.preprocessing import LabelEncoder\n",
    "\n",
    "from sklearn.model_selection import train_test_split\n",
    "from sklearn.preprocessing import StandardScaler, OneHotEncoder\n",
    "from sklearn.compose import ColumnTransformer\n",
    "from sklearn.pipeline import Pipeline\n",
    "from sklearn.linear_model import LogisticRegression\n",
    "from sklearn.metrics import accuracy_score\n",
    "from sklearn.decomposition import PCA\n",
    "import joblib"
   ]
  },
  {
   "cell_type": "markdown",
   "metadata": {},
   "source": [
    "# 2. Load Titanic Dataset"
   ]
  },
  {
   "cell_type": "code",
   "execution_count": 281,
   "metadata": {},
   "outputs": [
    {
     "data": {
      "text/html": [
       "<div>\n",
       "<style scoped>\n",
       "    .dataframe tbody tr th:only-of-type {\n",
       "        vertical-align: middle;\n",
       "    }\n",
       "\n",
       "    .dataframe tbody tr th {\n",
       "        vertical-align: top;\n",
       "    }\n",
       "\n",
       "    .dataframe thead th {\n",
       "        text-align: right;\n",
       "    }\n",
       "</style>\n",
       "<table border=\"1\" class=\"dataframe\">\n",
       "  <thead>\n",
       "    <tr style=\"text-align: right;\">\n",
       "      <th></th>\n",
       "      <th>survived</th>\n",
       "      <th>pclass</th>\n",
       "      <th>sex</th>\n",
       "      <th>age</th>\n",
       "      <th>sibsp</th>\n",
       "      <th>parch</th>\n",
       "      <th>fare</th>\n",
       "      <th>embarked</th>\n",
       "      <th>class</th>\n",
       "      <th>who</th>\n",
       "      <th>adult_male</th>\n",
       "      <th>deck</th>\n",
       "      <th>embark_town</th>\n",
       "      <th>alive</th>\n",
       "      <th>alone</th>\n",
       "    </tr>\n",
       "  </thead>\n",
       "  <tbody>\n",
       "    <tr>\n",
       "      <th>0</th>\n",
       "      <td>0</td>\n",
       "      <td>3</td>\n",
       "      <td>male</td>\n",
       "      <td>22.0</td>\n",
       "      <td>1</td>\n",
       "      <td>0</td>\n",
       "      <td>7.2500</td>\n",
       "      <td>S</td>\n",
       "      <td>Third</td>\n",
       "      <td>man</td>\n",
       "      <td>True</td>\n",
       "      <td>NaN</td>\n",
       "      <td>Southampton</td>\n",
       "      <td>no</td>\n",
       "      <td>False</td>\n",
       "    </tr>\n",
       "    <tr>\n",
       "      <th>1</th>\n",
       "      <td>1</td>\n",
       "      <td>1</td>\n",
       "      <td>female</td>\n",
       "      <td>38.0</td>\n",
       "      <td>1</td>\n",
       "      <td>0</td>\n",
       "      <td>71.2833</td>\n",
       "      <td>C</td>\n",
       "      <td>First</td>\n",
       "      <td>woman</td>\n",
       "      <td>False</td>\n",
       "      <td>C</td>\n",
       "      <td>Cherbourg</td>\n",
       "      <td>yes</td>\n",
       "      <td>False</td>\n",
       "    </tr>\n",
       "    <tr>\n",
       "      <th>2</th>\n",
       "      <td>1</td>\n",
       "      <td>3</td>\n",
       "      <td>female</td>\n",
       "      <td>26.0</td>\n",
       "      <td>0</td>\n",
       "      <td>0</td>\n",
       "      <td>7.9250</td>\n",
       "      <td>S</td>\n",
       "      <td>Third</td>\n",
       "      <td>woman</td>\n",
       "      <td>False</td>\n",
       "      <td>NaN</td>\n",
       "      <td>Southampton</td>\n",
       "      <td>yes</td>\n",
       "      <td>True</td>\n",
       "    </tr>\n",
       "    <tr>\n",
       "      <th>3</th>\n",
       "      <td>1</td>\n",
       "      <td>1</td>\n",
       "      <td>female</td>\n",
       "      <td>35.0</td>\n",
       "      <td>1</td>\n",
       "      <td>0</td>\n",
       "      <td>53.1000</td>\n",
       "      <td>S</td>\n",
       "      <td>First</td>\n",
       "      <td>woman</td>\n",
       "      <td>False</td>\n",
       "      <td>C</td>\n",
       "      <td>Southampton</td>\n",
       "      <td>yes</td>\n",
       "      <td>False</td>\n",
       "    </tr>\n",
       "    <tr>\n",
       "      <th>4</th>\n",
       "      <td>0</td>\n",
       "      <td>3</td>\n",
       "      <td>male</td>\n",
       "      <td>35.0</td>\n",
       "      <td>0</td>\n",
       "      <td>0</td>\n",
       "      <td>8.0500</td>\n",
       "      <td>S</td>\n",
       "      <td>Third</td>\n",
       "      <td>man</td>\n",
       "      <td>True</td>\n",
       "      <td>NaN</td>\n",
       "      <td>Southampton</td>\n",
       "      <td>no</td>\n",
       "      <td>True</td>\n",
       "    </tr>\n",
       "  </tbody>\n",
       "</table>\n",
       "</div>"
      ],
      "text/plain": [
       "   survived  pclass     sex   age  sibsp  parch     fare embarked  class  \\\n",
       "0         0       3    male  22.0      1      0   7.2500        S  Third   \n",
       "1         1       1  female  38.0      1      0  71.2833        C  First   \n",
       "2         1       3  female  26.0      0      0   7.9250        S  Third   \n",
       "3         1       1  female  35.0      1      0  53.1000        S  First   \n",
       "4         0       3    male  35.0      0      0   8.0500        S  Third   \n",
       "\n",
       "     who  adult_male deck  embark_town alive  alone  \n",
       "0    man        True  NaN  Southampton    no  False  \n",
       "1  woman       False    C    Cherbourg   yes  False  \n",
       "2  woman       False  NaN  Southampton   yes   True  \n",
       "3  woman       False    C  Southampton   yes  False  \n",
       "4    man        True  NaN  Southampton    no   True  "
      ]
     },
     "execution_count": 281,
     "metadata": {},
     "output_type": "execute_result"
    }
   ],
   "source": [
    "import seaborn as sns\n",
    "titanic = sns.load_dataset(\"titanic\")\n",
    "titanic.head()"
   ]
  },
  {
   "cell_type": "markdown",
   "metadata": {},
   "source": [
    "<!-- ## 2.1 Upsampling\n",
    "\n",
    "We retrieve the distribution of the age (that is a feature full of nan) and sample from that distribution in order to mantain more data (because we do not drop that rows).\\\n",
    "Sampling from the same distribution of our available data ensure a statistical coherence and should ensure that we are not introducing external noise. -->"
   ]
  },
  {
   "cell_type": "markdown",
   "metadata": {},
   "source": [
    "## 2.1 Checking Data Quality\n",
    "Before applying feature engineering, we must evaluate the quality of the raw dataset.  \n",
    "Typical checks include:\n",
    "\n",
    "- **Missing values** → identify columns with NaNs.  \n",
    "- **Duplicated entries** → verify if rows are repeated.  \n",
    "- **Data types** → confirm consistency (numerical vs. categorical).  \n",
    "- **Basic statistics** → detect outliers, skewness, unexpected ranges.  "
   ]
  },
  {
   "cell_type": "code",
   "execution_count": 282,
   "metadata": {},
   "outputs": [
    {
     "name": "stdout",
     "output_type": "stream",
     "text": [
      "=== Dataset Info ===\n",
      "<class 'pandas.core.frame.DataFrame'>\n",
      "RangeIndex: 891 entries, 0 to 890\n",
      "Data columns (total 15 columns):\n",
      " #   Column       Non-Null Count  Dtype   \n",
      "---  ------       --------------  -----   \n",
      " 0   survived     891 non-null    int64   \n",
      " 1   pclass       891 non-null    int64   \n",
      " 2   sex          891 non-null    object  \n",
      " 3   age          714 non-null    float64 \n",
      " 4   sibsp        891 non-null    int64   \n",
      " 5   parch        891 non-null    int64   \n",
      " 6   fare         891 non-null    float64 \n",
      " 7   embarked     889 non-null    object  \n",
      " 8   class        891 non-null    category\n",
      " 9   who          891 non-null    object  \n",
      " 10  adult_male   891 non-null    bool    \n",
      " 11  deck         203 non-null    category\n",
      " 12  embark_town  889 non-null    object  \n",
      " 13  alive        891 non-null    object  \n",
      " 14  alone        891 non-null    bool    \n",
      "dtypes: bool(2), category(2), float64(2), int64(4), object(5)\n",
      "memory usage: 80.7+ KB\n",
      "None\n"
     ]
    }
   ],
   "source": [
    "# --- Checking Data Quality ---\n",
    "\n",
    "# 1. Overview of data types and non-null counts\n",
    "print(\"=== Dataset Info ===\")\n",
    "print(titanic.info())\n"
   ]
  },
  {
   "cell_type": "code",
   "execution_count": 283,
   "metadata": {},
   "outputs": [
    {
     "name": "stdout",
     "output_type": "stream",
     "text": [
      "\n",
      "=== Missing Values ===\n",
      "survived         0\n",
      "pclass           0\n",
      "sex              0\n",
      "age            177\n",
      "sibsp            0\n",
      "parch            0\n",
      "fare             0\n",
      "embarked         2\n",
      "class            0\n",
      "who              0\n",
      "adult_male       0\n",
      "deck           688\n",
      "embark_town      2\n",
      "alive            0\n",
      "alone            0\n",
      "dtype: int64\n"
     ]
    }
   ],
   "source": [
    "# 2. Missing values summary\n",
    "print(\"\\n=== Missing Values ===\")\n",
    "print(titanic.isnull().sum())"
   ]
  },
  {
   "cell_type": "code",
   "execution_count": 284,
   "metadata": {},
   "outputs": [
    {
     "name": "stdout",
     "output_type": "stream",
     "text": [
      "\n",
      "=== Duplicated Rows ===\n",
      "Number of duplicates: 107\n"
     ]
    }
   ],
   "source": [
    "# 3. Duplicates\n",
    "print(\"\\n=== Duplicated Rows ===\")\n",
    "print(\"Number of duplicates:\", titanic.duplicated().sum())\n"
   ]
  },
  {
   "cell_type": "code",
   "execution_count": 285,
   "metadata": {},
   "outputs": [
    {
     "name": "stdout",
     "output_type": "stream",
     "text": [
      "\n",
      "=== Descriptive Statistics ===\n"
     ]
    },
    {
     "data": {
      "text/html": [
       "<div>\n",
       "<style scoped>\n",
       "    .dataframe tbody tr th:only-of-type {\n",
       "        vertical-align: middle;\n",
       "    }\n",
       "\n",
       "    .dataframe tbody tr th {\n",
       "        vertical-align: top;\n",
       "    }\n",
       "\n",
       "    .dataframe thead th {\n",
       "        text-align: right;\n",
       "    }\n",
       "</style>\n",
       "<table border=\"1\" class=\"dataframe\">\n",
       "  <thead>\n",
       "    <tr style=\"text-align: right;\">\n",
       "      <th></th>\n",
       "      <th>count</th>\n",
       "      <th>unique</th>\n",
       "      <th>top</th>\n",
       "      <th>freq</th>\n",
       "      <th>mean</th>\n",
       "      <th>std</th>\n",
       "      <th>min</th>\n",
       "      <th>25%</th>\n",
       "      <th>50%</th>\n",
       "      <th>75%</th>\n",
       "      <th>max</th>\n",
       "    </tr>\n",
       "  </thead>\n",
       "  <tbody>\n",
       "    <tr>\n",
       "      <th>survived</th>\n",
       "      <td>891.0</td>\n",
       "      <td>NaN</td>\n",
       "      <td>NaN</td>\n",
       "      <td>NaN</td>\n",
       "      <td>0.383838</td>\n",
       "      <td>0.486592</td>\n",
       "      <td>0.0</td>\n",
       "      <td>0.0</td>\n",
       "      <td>0.0</td>\n",
       "      <td>1.0</td>\n",
       "      <td>1.0</td>\n",
       "    </tr>\n",
       "    <tr>\n",
       "      <th>pclass</th>\n",
       "      <td>891.0</td>\n",
       "      <td>NaN</td>\n",
       "      <td>NaN</td>\n",
       "      <td>NaN</td>\n",
       "      <td>2.308642</td>\n",
       "      <td>0.836071</td>\n",
       "      <td>1.0</td>\n",
       "      <td>2.0</td>\n",
       "      <td>3.0</td>\n",
       "      <td>3.0</td>\n",
       "      <td>3.0</td>\n",
       "    </tr>\n",
       "    <tr>\n",
       "      <th>sex</th>\n",
       "      <td>891</td>\n",
       "      <td>2</td>\n",
       "      <td>male</td>\n",
       "      <td>577</td>\n",
       "      <td>NaN</td>\n",
       "      <td>NaN</td>\n",
       "      <td>NaN</td>\n",
       "      <td>NaN</td>\n",
       "      <td>NaN</td>\n",
       "      <td>NaN</td>\n",
       "      <td>NaN</td>\n",
       "    </tr>\n",
       "    <tr>\n",
       "      <th>age</th>\n",
       "      <td>714.0</td>\n",
       "      <td>NaN</td>\n",
       "      <td>NaN</td>\n",
       "      <td>NaN</td>\n",
       "      <td>29.699118</td>\n",
       "      <td>14.526497</td>\n",
       "      <td>0.42</td>\n",
       "      <td>20.125</td>\n",
       "      <td>28.0</td>\n",
       "      <td>38.0</td>\n",
       "      <td>80.0</td>\n",
       "    </tr>\n",
       "    <tr>\n",
       "      <th>sibsp</th>\n",
       "      <td>891.0</td>\n",
       "      <td>NaN</td>\n",
       "      <td>NaN</td>\n",
       "      <td>NaN</td>\n",
       "      <td>0.523008</td>\n",
       "      <td>1.102743</td>\n",
       "      <td>0.0</td>\n",
       "      <td>0.0</td>\n",
       "      <td>0.0</td>\n",
       "      <td>1.0</td>\n",
       "      <td>8.0</td>\n",
       "    </tr>\n",
       "    <tr>\n",
       "      <th>parch</th>\n",
       "      <td>891.0</td>\n",
       "      <td>NaN</td>\n",
       "      <td>NaN</td>\n",
       "      <td>NaN</td>\n",
       "      <td>0.381594</td>\n",
       "      <td>0.806057</td>\n",
       "      <td>0.0</td>\n",
       "      <td>0.0</td>\n",
       "      <td>0.0</td>\n",
       "      <td>0.0</td>\n",
       "      <td>6.0</td>\n",
       "    </tr>\n",
       "    <tr>\n",
       "      <th>fare</th>\n",
       "      <td>891.0</td>\n",
       "      <td>NaN</td>\n",
       "      <td>NaN</td>\n",
       "      <td>NaN</td>\n",
       "      <td>32.204208</td>\n",
       "      <td>49.693429</td>\n",
       "      <td>0.0</td>\n",
       "      <td>7.9104</td>\n",
       "      <td>14.4542</td>\n",
       "      <td>31.0</td>\n",
       "      <td>512.3292</td>\n",
       "    </tr>\n",
       "    <tr>\n",
       "      <th>embarked</th>\n",
       "      <td>889</td>\n",
       "      <td>3</td>\n",
       "      <td>S</td>\n",
       "      <td>644</td>\n",
       "      <td>NaN</td>\n",
       "      <td>NaN</td>\n",
       "      <td>NaN</td>\n",
       "      <td>NaN</td>\n",
       "      <td>NaN</td>\n",
       "      <td>NaN</td>\n",
       "      <td>NaN</td>\n",
       "    </tr>\n",
       "    <tr>\n",
       "      <th>class</th>\n",
       "      <td>891</td>\n",
       "      <td>3</td>\n",
       "      <td>Third</td>\n",
       "      <td>491</td>\n",
       "      <td>NaN</td>\n",
       "      <td>NaN</td>\n",
       "      <td>NaN</td>\n",
       "      <td>NaN</td>\n",
       "      <td>NaN</td>\n",
       "      <td>NaN</td>\n",
       "      <td>NaN</td>\n",
       "    </tr>\n",
       "    <tr>\n",
       "      <th>who</th>\n",
       "      <td>891</td>\n",
       "      <td>3</td>\n",
       "      <td>man</td>\n",
       "      <td>537</td>\n",
       "      <td>NaN</td>\n",
       "      <td>NaN</td>\n",
       "      <td>NaN</td>\n",
       "      <td>NaN</td>\n",
       "      <td>NaN</td>\n",
       "      <td>NaN</td>\n",
       "      <td>NaN</td>\n",
       "    </tr>\n",
       "    <tr>\n",
       "      <th>adult_male</th>\n",
       "      <td>891</td>\n",
       "      <td>2</td>\n",
       "      <td>True</td>\n",
       "      <td>537</td>\n",
       "      <td>NaN</td>\n",
       "      <td>NaN</td>\n",
       "      <td>NaN</td>\n",
       "      <td>NaN</td>\n",
       "      <td>NaN</td>\n",
       "      <td>NaN</td>\n",
       "      <td>NaN</td>\n",
       "    </tr>\n",
       "    <tr>\n",
       "      <th>deck</th>\n",
       "      <td>203</td>\n",
       "      <td>7</td>\n",
       "      <td>C</td>\n",
       "      <td>59</td>\n",
       "      <td>NaN</td>\n",
       "      <td>NaN</td>\n",
       "      <td>NaN</td>\n",
       "      <td>NaN</td>\n",
       "      <td>NaN</td>\n",
       "      <td>NaN</td>\n",
       "      <td>NaN</td>\n",
       "    </tr>\n",
       "    <tr>\n",
       "      <th>embark_town</th>\n",
       "      <td>889</td>\n",
       "      <td>3</td>\n",
       "      <td>Southampton</td>\n",
       "      <td>644</td>\n",
       "      <td>NaN</td>\n",
       "      <td>NaN</td>\n",
       "      <td>NaN</td>\n",
       "      <td>NaN</td>\n",
       "      <td>NaN</td>\n",
       "      <td>NaN</td>\n",
       "      <td>NaN</td>\n",
       "    </tr>\n",
       "    <tr>\n",
       "      <th>alive</th>\n",
       "      <td>891</td>\n",
       "      <td>2</td>\n",
       "      <td>no</td>\n",
       "      <td>549</td>\n",
       "      <td>NaN</td>\n",
       "      <td>NaN</td>\n",
       "      <td>NaN</td>\n",
       "      <td>NaN</td>\n",
       "      <td>NaN</td>\n",
       "      <td>NaN</td>\n",
       "      <td>NaN</td>\n",
       "    </tr>\n",
       "    <tr>\n",
       "      <th>alone</th>\n",
       "      <td>891</td>\n",
       "      <td>2</td>\n",
       "      <td>True</td>\n",
       "      <td>537</td>\n",
       "      <td>NaN</td>\n",
       "      <td>NaN</td>\n",
       "      <td>NaN</td>\n",
       "      <td>NaN</td>\n",
       "      <td>NaN</td>\n",
       "      <td>NaN</td>\n",
       "      <td>NaN</td>\n",
       "    </tr>\n",
       "  </tbody>\n",
       "</table>\n",
       "</div>"
      ],
      "text/plain": [
       "             count unique          top freq       mean        std   min  \\\n",
       "survived     891.0    NaN          NaN  NaN   0.383838   0.486592   0.0   \n",
       "pclass       891.0    NaN          NaN  NaN   2.308642   0.836071   1.0   \n",
       "sex            891      2         male  577        NaN        NaN   NaN   \n",
       "age          714.0    NaN          NaN  NaN  29.699118  14.526497  0.42   \n",
       "sibsp        891.0    NaN          NaN  NaN   0.523008   1.102743   0.0   \n",
       "parch        891.0    NaN          NaN  NaN   0.381594   0.806057   0.0   \n",
       "fare         891.0    NaN          NaN  NaN  32.204208  49.693429   0.0   \n",
       "embarked       889      3            S  644        NaN        NaN   NaN   \n",
       "class          891      3        Third  491        NaN        NaN   NaN   \n",
       "who            891      3          man  537        NaN        NaN   NaN   \n",
       "adult_male     891      2         True  537        NaN        NaN   NaN   \n",
       "deck           203      7            C   59        NaN        NaN   NaN   \n",
       "embark_town    889      3  Southampton  644        NaN        NaN   NaN   \n",
       "alive          891      2           no  549        NaN        NaN   NaN   \n",
       "alone          891      2         True  537        NaN        NaN   NaN   \n",
       "\n",
       "                25%      50%   75%       max  \n",
       "survived        0.0      0.0   1.0       1.0  \n",
       "pclass          2.0      3.0   3.0       3.0  \n",
       "sex             NaN      NaN   NaN       NaN  \n",
       "age          20.125     28.0  38.0      80.0  \n",
       "sibsp           0.0      0.0   1.0       8.0  \n",
       "parch           0.0      0.0   0.0       6.0  \n",
       "fare         7.9104  14.4542  31.0  512.3292  \n",
       "embarked        NaN      NaN   NaN       NaN  \n",
       "class           NaN      NaN   NaN       NaN  \n",
       "who             NaN      NaN   NaN       NaN  \n",
       "adult_male      NaN      NaN   NaN       NaN  \n",
       "deck            NaN      NaN   NaN       NaN  \n",
       "embark_town     NaN      NaN   NaN       NaN  \n",
       "alive           NaN      NaN   NaN       NaN  \n",
       "alone           NaN      NaN   NaN       NaN  "
      ]
     },
     "metadata": {},
     "output_type": "display_data"
    }
   ],
   "source": [
    "\n",
    "# 4. Basic statistics\n",
    "print(\"\\n=== Descriptive Statistics ===\")\n",
    "display(titanic.describe(include=\"all\").transpose())"
   ]
  },
  {
   "cell_type": "code",
   "execution_count": 286,
   "metadata": {},
   "outputs": [
    {
     "data": {
      "image/png": "[encoded data removed]",
      "text/plain": [
       "<Figure size 900x700 with 2 Axes>"
      ]
     },
     "metadata": {},
     "output_type": "display_data"
    }
   ],
   "source": [
    "# Apply seaborn theme\n",
    "sns.set_theme(style=\"white\")\n",
    "\n",
    "# Select numeric features\n",
    "numeric_df = titanic.select_dtypes(include=[\"int64\", \"float64\"])\n",
    "\n",
    "# Compute correlation matrix\n",
    "corr = numeric_df.corr(numeric_only=True)\n",
    "\n",
    "# Generate a mask for the upper triangle\n",
    "mask = np.triu(corr)\n",
    "\n",
    "# Set up the matplotlib figure\n",
    "plt.figure(figsize=(9,7))\n",
    "\n",
    "# Draw the heatmap\n",
    "sns.heatmap(\n",
    "    corr, \n",
    "    mask=mask, \n",
    "    annot=True, \n",
    "    fmt=\".2f\", \n",
    "    cmap=\"coolwarm\", \n",
    "    cbar_kws={\"shrink\": .8}, \n",
    "    linewidths=0.5, \n",
    "    square=True\n",
    ")\n",
    "\n",
    "plt.title(\"Titanic Dataset — Linear Correlation Heatmap\", fontsize=16, pad=12)\n",
    "plt.xticks(rotation=45, ha=\"right\")\n",
    "plt.yticks(rotation=0)\n",
    "plt.tight_layout()\n",
    "plt.show()"
   ]
  },
  {
   "cell_type": "markdown",
   "metadata": {},
   "source": [
    "# 3. Data Cleaning"
   ]
  },
  {
   "cell_type": "code",
   "execution_count": 287,
   "metadata": {},
   "outputs": [],
   "source": [
    "# Drop rows where the target is missing\n",
    "titanic = titanic.dropna(subset=[\"survived\"])\n",
    "\n",
    "# For categorical columns: add \"Unknown\" as a valid category\n",
    "for col in [\"deck\", \"embark_town\"]:\n",
    "    titanic[col] = titanic[col].astype(\"category\")\n",
    "    titanic[col] = titanic[col].cat.add_categories(\"Unknown\")\n",
    "    titanic[col] = titanic[col].fillna(\"Unknown\")\n",
    "\n",
    "# For categorical 'embarked', we use the most frequent category\n",
    "titanic[\"embarked\"] = titanic[\"embarked\"].fillna(\"S\")\n"
   ]
  },
  {
   "cell_type": "markdown",
   "metadata": {},
   "source": [
    "# 3.1 Upsampling\n",
    "\n",
    "We retrieve the distribution of the age (that is a feature full of nan) and sample from that distribution in order to mantain more data (because we do not drop that rows).\\\n",
    "Sampling from the same distribution of our available data ensure a statistical coherence and should ensure that we are not introducing external noise."
   ]
  },
  {
   "cell_type": "code",
   "execution_count": 288,
   "metadata": {},
   "outputs": [
    {
     "data": {
      "image/png": "[encoded data removed]",
      "text/plain": [
       "<Figure size 640x480 with 1 Axes>"
      ]
     },
     "metadata": {},
     "output_type": "display_data"
    },
    {
     "data": {
      "image/png": "[encoded data removed]",
      "text/plain": [
       "<Figure size 640x480 with 1 Axes>"
      ]
     },
     "metadata": {},
     "output_type": "display_data"
    }
   ],
   "source": [
    "from scipy.stats import rv_histogram\n",
    "\n",
    "# -- Old distribution visualization -- \n",
    "\n",
    "data = titanic.loc[titanic[\"age\"] > 15, \"age\"].dropna().to_numpy()\n",
    "\n",
    "plt.hist(data, bins=13, edgecolor='black', color = 'red')\n",
    "plt.xlabel(\"Value\")\n",
    "plt.ylabel(\"Frequency\")\n",
    "plt.title(\"Histogram of Values\")\n",
    "plt.show()\n",
    "\n",
    "# -- Old distribution sampling --\n",
    "\n",
    "hist = np.histogram(data, bins= int(np.max(data) - np.min(data)), density=True)\n",
    "dist = rv_histogram(hist)\n",
    "samples = np.array(dist.rvs(size=titanic[\"age\"].isnull().sum()), dtype = int)\n",
    "titanic.loc[titanic[\"age\"].isnull(), 'age'] = samples\n",
    "\n",
    "# -- New distribution visualization -- \n",
    "\n",
    "data = titanic.loc[titanic[\"age\"] > 15, \"age\"].dropna().to_numpy()\n",
    "\n",
    "plt.hist(data, bins=13, edgecolor='black', color = 'blue')\n",
    "plt.xlabel(\"Value\")\n",
    "plt.ylabel(\"Frequency\")\n",
    "plt.title(\"Histogram of Values\")\n",
    "plt.show()"
   ]
  },
  {
   "cell_type": "markdown",
   "metadata": {},
   "source": [
    "# 4. Feature Creation"
   ]
  },
  {
   "cell_type": "code",
   "execution_count": 289,
   "metadata": {},
   "outputs": [
    {
     "data": {
      "text/html": [
       "<div>\n",
       "<style scoped>\n",
       "    .dataframe tbody tr th:only-of-type {\n",
       "        vertical-align: middle;\n",
       "    }\n",
       "\n",
       "    .dataframe tbody tr th {\n",
       "        vertical-align: top;\n",
       "    }\n",
       "\n",
       "    .dataframe thead th {\n",
       "        text-align: right;\n",
       "    }\n",
       "</style>\n",
       "<table border=\"1\" class=\"dataframe\">\n",
       "  <thead>\n",
       "    <tr style=\"text-align: right;\">\n",
       "      <th></th>\n",
       "      <th>survived</th>\n",
       "      <th>family_size</th>\n",
       "      <th>is_alone</th>\n",
       "      <th>title</th>\n",
       "    </tr>\n",
       "  </thead>\n",
       "  <tbody>\n",
       "    <tr>\n",
       "      <th>0</th>\n",
       "      <td>0</td>\n",
       "      <td>2</td>\n",
       "      <td>0</td>\n",
       "      <td>Mr</td>\n",
       "    </tr>\n",
       "    <tr>\n",
       "      <th>1</th>\n",
       "      <td>1</td>\n",
       "      <td>2</td>\n",
       "      <td>0</td>\n",
       "      <td>Mrs</td>\n",
       "    </tr>\n",
       "    <tr>\n",
       "      <th>2</th>\n",
       "      <td>1</td>\n",
       "      <td>1</td>\n",
       "      <td>1</td>\n",
       "      <td>Mrs</td>\n",
       "    </tr>\n",
       "    <tr>\n",
       "      <th>3</th>\n",
       "      <td>1</td>\n",
       "      <td>2</td>\n",
       "      <td>0</td>\n",
       "      <td>Mrs</td>\n",
       "    </tr>\n",
       "    <tr>\n",
       "      <th>4</th>\n",
       "      <td>0</td>\n",
       "      <td>1</td>\n",
       "      <td>1</td>\n",
       "      <td>Mr</td>\n",
       "    </tr>\n",
       "  </tbody>\n",
       "</table>\n",
       "</div>"
      ],
      "text/plain": [
       "   survived  family_size  is_alone title\n",
       "0         0            2         0    Mr\n",
       "1         1            2         0   Mrs\n",
       "2         1            1         1   Mrs\n",
       "3         1            2         0   Mrs\n",
       "4         0            1         1    Mr"
      ]
     },
     "execution_count": 289,
     "metadata": {},
     "output_type": "execute_result"
    }
   ],
   "source": [
    "titanic[\"family_size\"] = titanic[\"sibsp\"] + titanic[\"parch\"] + 1\n",
    "titanic[\"is_alone\"] = (titanic[\"family_size\"] == 1).astype(int)\n",
    "titanic[\"title\"] = titanic[\"who\"].map(\n",
    "    {\"man\": \"Mr\", \"woman\": \"Mrs\", \"child\": \"Master\"}\n",
    ")\n",
    "\n",
    "titanic[[\"survived\",\"family_size\",\"is_alone\",\"title\"]].head()"
   ]
  },
  {
   "cell_type": "markdown",
   "metadata": {},
   "source": [
    "# 5. Define Features and Target"
   ]
  },
  {
   "cell_type": "code",
   "execution_count": 290,
   "metadata": {},
   "outputs": [],
   "source": [
    "\n",
    "X = titanic[\n",
    "    [\"pclass\",\"sex\",\"age\",\"fare\",\"embarked\",\"family_size\",\"is_alone\",\"title\"]\n",
    "]\n",
    "y = titanic[\"survived\"]\n"
   ]
  },
  {
   "cell_type": "code",
   "execution_count": 291,
   "metadata": {},
   "outputs": [
    {
     "data": {
      "image/png": "[encoded data removed]",
      "text/plain": [
       "<Figure size 900x700 with 2 Axes>"
      ]
     },
     "metadata": {},
     "output_type": "display_data"
    }
   ],
   "source": [
    "# Apply seaborn theme\n",
    "sns.set_theme(style=\"white\")\n",
    "\n",
    "# Select numeric features\n",
    "numeric_df = X.select_dtypes(include=[\"int64\", \"float64\"]).join(y)\n",
    "\n",
    "# Compute correlation matrix\n",
    "corr = numeric_df.corr(numeric_only=True)\n",
    "\n",
    "# Generate a mask for the upper triangle\n",
    "mask = np.triu(corr)\n",
    "\n",
    "# Set up the matplotlib figure\n",
    "plt.figure(figsize=(9,7))\n",
    "\n",
    "# Draw the heatmap\n",
    "sns.heatmap(\n",
    "    corr, \n",
    "    mask=mask, \n",
    "    annot=True, \n",
    "    fmt=\".2f\", \n",
    "    cmap=\"coolwarm\", \n",
    "    cbar_kws={\"shrink\": .8}, \n",
    "    linewidths=0.5, \n",
    "    square=True\n",
    ")\n",
    "\n",
    "plt.title(\"Titanic Dataset — Linear Correlation Heatmap\", fontsize=16, pad=12)\n",
    "plt.xticks(rotation=45, ha=\"right\")\n",
    "plt.yticks(rotation=0)\n",
    "plt.tight_layout()\n",
    "plt.show()"
   ]
  },
  {
   "cell_type": "code",
   "execution_count": 292,
   "metadata": {},
   "outputs": [
    {
     "data": {
      "image/png": "[encoded data removed]",
      "text/plain": [
       "<Figure size 800x500 with 1 Axes>"
      ]
     },
     "metadata": {},
     "output_type": "display_data"
    },
    {
     "data": {
      "text/html": [
       "<div>\n",
       "<style scoped>\n",
       "    .dataframe tbody tr th:only-of-type {\n",
       "        vertical-align: middle;\n",
       "    }\n",
       "\n",
       "    .dataframe tbody tr th {\n",
       "        vertical-align: top;\n",
       "    }\n",
       "\n",
       "    .dataframe thead th {\n",
       "        text-align: right;\n",
       "    }\n",
       "</style>\n",
       "<table border=\"1\" class=\"dataframe\">\n",
       "  <thead>\n",
       "    <tr style=\"text-align: right;\">\n",
       "      <th></th>\n",
       "      <th>Feature</th>\n",
       "      <th>Chi2 Score</th>\n",
       "      <th>p-value</th>\n",
       "    </tr>\n",
       "  </thead>\n",
       "  <tbody>\n",
       "    <tr>\n",
       "      <th>7</th>\n",
       "      <td>alive</td>\n",
       "      <td>549.000000</td>\n",
       "      <td>2.077453e-121</td>\n",
       "    </tr>\n",
       "    <tr>\n",
       "      <th>4</th>\n",
       "      <td>adult_male</td>\n",
       "      <td>109.859713</td>\n",
       "      <td>1.051769e-25</td>\n",
       "    </tr>\n",
       "    <tr>\n",
       "      <th>0</th>\n",
       "      <td>sex</td>\n",
       "      <td>92.702447</td>\n",
       "      <td>6.077838e-22</td>\n",
       "    </tr>\n",
       "    <tr>\n",
       "      <th>5</th>\n",
       "      <td>deck</td>\n",
       "      <td>55.293246</td>\n",
       "      <td>1.038247e-13</td>\n",
       "    </tr>\n",
       "    <tr>\n",
       "      <th>2</th>\n",
       "      <td>class</td>\n",
       "      <td>54.465866</td>\n",
       "      <td>1.581715e-13</td>\n",
       "    </tr>\n",
       "    <tr>\n",
       "      <th>3</th>\n",
       "      <td>who</td>\n",
       "      <td>27.543638</td>\n",
       "      <td>1.535897e-07</td>\n",
       "    </tr>\n",
       "    <tr>\n",
       "      <th>9</th>\n",
       "      <td>title</td>\n",
       "      <td>27.543638</td>\n",
       "      <td>1.535897e-07</td>\n",
       "    </tr>\n",
       "    <tr>\n",
       "      <th>8</th>\n",
       "      <td>alone</td>\n",
       "      <td>14.640793</td>\n",
       "      <td>1.300685e-04</td>\n",
       "    </tr>\n",
       "    <tr>\n",
       "      <th>1</th>\n",
       "      <td>embarked</td>\n",
       "      <td>10.202525</td>\n",
       "      <td>1.402485e-03</td>\n",
       "    </tr>\n",
       "    <tr>\n",
       "      <th>6</th>\n",
       "      <td>embark_town</td>\n",
       "      <td>9.755456</td>\n",
       "      <td>1.787913e-03</td>\n",
       "    </tr>\n",
       "  </tbody>\n",
       "</table>\n",
       "</div>"
      ],
      "text/plain": [
       "       Feature  Chi2 Score        p-value\n",
       "7        alive  549.000000  2.077453e-121\n",
       "4   adult_male  109.859713   1.051769e-25\n",
       "0          sex   92.702447   6.077838e-22\n",
       "5         deck   55.293246   1.038247e-13\n",
       "2        class   54.465866   1.581715e-13\n",
       "3          who   27.543638   1.535897e-07\n",
       "9        title   27.543638   1.535897e-07\n",
       "8        alone   14.640793   1.300685e-04\n",
       "1     embarked   10.202525   1.402485e-03\n",
       "6  embark_town    9.755456   1.787913e-03"
      ]
     },
     "execution_count": 292,
     "metadata": {},
     "output_type": "execute_result"
    }
   ],
   "source": [
    "\n",
    "# Select categorical features (excluding numeric)\n",
    "cat_features = titanic.select_dtypes(include=[\"object\", \"category\", \"bool\"]).copy()\n",
    "\n",
    "# Encode categorical variables numerically\n",
    "encoded = pd.DataFrame()\n",
    "for col in cat_features.columns:\n",
    "    le = LabelEncoder()\n",
    "    encoded[col] = le.fit_transform(cat_features[col].astype(str))  # convert NaN to string\n",
    "\n",
    "# Target variable\n",
    "y = titanic[\"survived\"].fillna(0).astype(int)\n",
    "\n",
    "# Chi-squared test\n",
    "chi_scores, p_values = chi2(encoded, y)\n",
    "\n",
    "# Summarize results\n",
    "chi_results = pd.DataFrame({\n",
    "    \"Feature\": encoded.columns,\n",
    "    \"Chi2 Score\": chi_scores,\n",
    "    \"p-value\": p_values\n",
    "}).sort_values(\"Chi2 Score\", ascending=False)\n",
    "# --- Plot results ---\n",
    "plt.figure(figsize=(8,5))\n",
    "sns.barplot(\n",
    "    data=chi_results.iloc[1:, :],\n",
    "    x=\"Chi2 Score\", \n",
    "    y=\"Feature\",\n",
    "    hue = \"Feature\",\n",
    "    palette=\"viridis\"\n",
    ")\n",
    "plt.title(\"Chi-Squared Test: Categorical Features vs Survived\", fontsize=14, pad=10)\n",
    "plt.xlabel(\"Chi² Score (higher = stronger association)\")\n",
    "plt.ylabel(\"Feature\")\n",
    "plt.tight_layout()\n",
    "plt.show()\n",
    "\n",
    "chi_results"
   ]
  },
  {
   "cell_type": "markdown",
   "metadata": {},
   "source": [
    "# 6. Feature Selection Example"
   ]
  },
  {
   "cell_type": "code",
   "execution_count": 293,
   "metadata": {},
   "outputs": [
    {
     "name": "stdout",
     "output_type": "stream",
     "text": [
      "(891, 8)\n",
      "(891, 7)\n"
     ]
    }
   ],
   "source": [
    "# Remove correlated or redundant features\n",
    "# Example: drop 'is_alone' if family_size already encodes similar info\n",
    "print(X.shape)\n",
    "X_selected = X.drop(columns=[\"is_alone\"])\n",
    "print(X_selected.shape)"
   ]
  },
  {
   "cell_type": "markdown",
   "metadata": {},
   "source": [
    "# 8. Train/Test Split\n",
    "\n"
   ]
  },
  {
   "cell_type": "code",
   "execution_count": 294,
   "metadata": {},
   "outputs": [
    {
     "name": "stdout",
     "output_type": "stream",
     "text": [
      "(712, 7)\n",
      "(179, 7)\n",
      "(712,)\n",
      "(179,)\n"
     ]
    }
   ],
   "source": [
    "X_train, X_test, y_train, y_test = train_test_split(X_selected, y, test_size=0.2, random_state=42)\n",
    "print(X_train.shape)\n",
    "print(X_test.shape)\n",
    "print(y_train.shape)\n",
    "print(y_test.shape)"
   ]
  },
  {
   "cell_type": "markdown",
   "metadata": {},
   "source": [
    "# 9. Preprocessing Pipelines ---"
   ]
  },
  {
   "cell_type": "code",
   "execution_count": null,
   "metadata": {},
   "outputs": [],
   "source": [
    "\n",
    "numeric_features = [\"age\",\"fare\",\"family_size\"]\n",
    "# a good idea\n",
    "categorical_features = [\"sex\",\"embarked\", \"title\"]\n",
    "\n",
    "numeric_transformer = Pipeline(steps=[\n",
    "    (\"scaler\", StandardScaler())\n",
    "])\n",
    "\n",
    "categorical_transformer = Pipeline(steps=[\n",
    "    (\"encoder\", OneHotEncoder(handle_unknown=\"ignore\"))\n",
    "])\n",
    "\n",
    "preprocessor = ColumnTransformer(\n",
    "    transformers=[\n",
    "        (\"num\", numeric_transformer, numeric_features),\n",
    "        (\"cat\", categorical_transformer, categorical_features)\n",
    "    ]\n",
    ")\n"
   ]
  },
  {
   "cell_type": "markdown",
   "metadata": {},
   "source": [
    "# 10. Full Pipeline with Logistic Regression"
   ]
  },
  {
   "cell_type": "code",
   "execution_count": 296,
   "metadata": {},
   "outputs": [
    {
     "name": "stdout",
     "output_type": "stream",
     "text": [
      "(712, 7)\n",
      "Accuracy (without PCA): 0.8100558659217877\n"
     ]
    }
   ],
   "source": [
    "print(X_train.shape)\n",
    "\n",
    "clf = Pipeline(steps=[\n",
    "    (\"preprocessor\", preprocessor),\n",
    "    (\"classifier\", LogisticRegression(max_iter=100))\n",
    "])\n",
    "\n",
    "clf.fit(X_train, y_train)\n",
    "y_pred = clf.predict(X_test)\n",
    "print(\"Accuracy (without PCA):\", accuracy_score(y_test, y_pred))\n"
   ]
  },
  {
   "cell_type": "markdown",
   "metadata": {},
   "source": [
    "# 11. Pipeline with Feature Extraction (PCA)"
   ]
  },
  {
   "cell_type": "code",
   "execution_count": 297,
   "metadata": {},
   "outputs": [
    {
     "name": "stdout",
     "output_type": "stream",
     "text": [
      "Accuracy (with PCA): 0.7821229050279329\n"
     ]
    }
   ],
   "source": [
    "pca_pipeline = Pipeline(steps=[\n",
    "    (\"preprocessor\", preprocessor),\n",
    "    (\"pca\", PCA(n_components=3)),\n",
    "    (\"classifier\", LogisticRegression(max_iter=100))\n",
    "])\n",
    "\n",
    "pca_pipeline.fit(X_train, y_train)\n",
    "y_pred_pca = pca_pipeline.predict(X_test)\n",
    "\n",
    "print(\"Accuracy (with PCA):\", accuracy_score(y_test, y_pred_pca))"
   ]
  },
  {
   "cell_type": "markdown",
   "metadata": {},
   "source": [
    "# 12. Save Pipelines (Serialization)"
   ]
  },
  {
   "cell_type": "code",
   "execution_count": 298,
   "metadata": {},
   "outputs": [
    {
     "data": {
      "text/plain": [
       "['titanic_pca_pipeline.pkl']"
      ]
     },
     "execution_count": 298,
     "metadata": {},
     "output_type": "execute_result"
    }
   ],
   "source": [
    "\n",
    "joblib.dump(clf, \"titanic_feature_pipeline.pkl\")\n",
    "joblib.dump(pca_pipeline, \"titanic_pca_pipeline.pkl\")\n"
   ]
  },
  {
   "cell_type": "markdown",
   "metadata": {},
   "source": [
    "# --- 13. Reload & Predict ---"
   ]
  },
  {
   "cell_type": "code",
   "execution_count": 299,
   "metadata": {},
   "outputs": [
    {
     "name": "stdout",
     "output_type": "stream",
     "text": [
      "Reloaded model accuracy: 0.8100558659217877\n"
     ]
    }
   ],
   "source": [
    "\n",
    "loaded_clf = joblib.load(\"titanic_feature_pipeline.pkl\")\n",
    "print(\"Reloaded model accuracy:\", accuracy_score(y_test, loaded_clf.predict(X_test)))\n"
   ]
  },
  {
   "cell_type": "markdown",
   "metadata": {},
   "source": [
    "# 14. Summary\n",
    "Key Takeaways:\n",
    "- Feature Engineering includes creating new variables (family_size, titles).\n",
    "- Feature Selection removes redundant variables.\n",
    "- Feature Extraction (PCA) transforms data into lower dimensions.\n",
    "- Pipelines ensure reproducibility and consistency in MLOps.\n",
    "- Serialization (joblib) allows deployment-ready models.\n",
    "\n"
   ]
  },
  {
   "cell_type": "markdown",
   "metadata": {},
   "source": []
  }
 ],
 "metadata": {
  "kernelspec": {
   "display_name": "venv",
   "language": "python",
   "name": "python3"
  },
  "language_info": {
   "codemirror_mode": {
    "name": "ipython",
    "version": 3
   },
   "file_extension": ".py",
   "mimetype": "text/x-python",
   "name": "python",
   "nbconvert_exporter": "python",
   "pygments_lexer": "ipython3",
   "version": "3.13.7"
  }
 },
 "nbformat": 4,
 "nbformat_minor": 2
}
